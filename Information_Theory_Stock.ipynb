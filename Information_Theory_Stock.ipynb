{
 "cells": [
  {
   "cell_type": "markdown",
   "metadata": {
    "nteract": {
     "transient": {
      "deleting": false
     }
    }
   },
   "source": [
    "# Information Theory"
   ]
  },
  {
   "cell_type": "markdown",
   "metadata": {},
   "source": [
    "https://en.wikipedia.org/wiki/Information_theory  \n",
    "https://www.basicknowledge101.com/pdf/km/Entropy%20(information%20theory).pdf  "
   ]
  },
  {
   "cell_type": "code",
   "execution_count": 1,
   "metadata": {
    "nteract": {
     "transient": {
      "deleting": false
     }
    }
   },
   "outputs": [],
   "source": [
    "import pandas as pd\n",
    "import numpy as np\n",
    "import matplotlib.pyplot as plt\n",
    "\n",
    "import warnings\n",
    "warnings.filterwarnings(\"ignore\")\n",
    "\n",
    "import yfinance as yf\n",
    "yf.pdr_override()"
   ]
  },
  {
   "cell_type": "code",
   "execution_count": 2,
   "metadata": {
    "nteract": {
     "transient": {
      "deleting": false
     }
    }
   },
   "outputs": [],
   "source": [
    "start = '2020-01-01'\n",
    "end = '2023-04-01'\n",
    "symbol = 'LT.NS'"
   ]
  },
  {
   "cell_type": "code",
   "execution_count": 3,
   "metadata": {
    "nteract": {
     "transient": {
      "deleting": false
     }
    }
   },
   "outputs": [
    {
     "name": "stdout",
     "output_type": "stream",
     "text": [
      "[*********************100%***********************]  1 of 1 completed\n"
     ]
    }
   ],
   "source": [
    "df = yf.download(symbol, start=start, end=end)"
   ]
  },
  {
   "cell_type": "code",
   "execution_count": 4,
   "metadata": {
    "nteract": {
     "transient": {
      "deleting": false
     }
    }
   },
   "outputs": [
    {
     "data": {
      "text/html": [
       "<div>\n",
       "<style scoped>\n",
       "    .dataframe tbody tr th:only-of-type {\n",
       "        vertical-align: middle;\n",
       "    }\n",
       "\n",
       "    .dataframe tbody tr th {\n",
       "        vertical-align: top;\n",
       "    }\n",
       "\n",
       "    .dataframe thead th {\n",
       "        text-align: right;\n",
       "    }\n",
       "</style>\n",
       "<table border=\"1\" class=\"dataframe\">\n",
       "  <thead>\n",
       "    <tr style=\"text-align: right;\">\n",
       "      <th></th>\n",
       "      <th>Open</th>\n",
       "      <th>High</th>\n",
       "      <th>Low</th>\n",
       "      <th>Close</th>\n",
       "      <th>Adj Close</th>\n",
       "      <th>Volume</th>\n",
       "    </tr>\n",
       "    <tr>\n",
       "      <th>Date</th>\n",
       "      <th></th>\n",
       "      <th></th>\n",
       "      <th></th>\n",
       "      <th></th>\n",
       "      <th></th>\n",
       "      <th></th>\n",
       "    </tr>\n",
       "  </thead>\n",
       "  <tbody>\n",
       "    <tr>\n",
       "      <th>2020-01-01 00:00:00+05:30</th>\n",
       "      <td>1308.400024</td>\n",
       "      <td>1318.900024</td>\n",
       "      <td>1303.000000</td>\n",
       "      <td>1309.949951</td>\n",
       "      <td>1226.583984</td>\n",
       "      <td>3123998</td>\n",
       "    </tr>\n",
       "    <tr>\n",
       "      <th>2020-01-02 00:00:00+05:30</th>\n",
       "      <td>1312.000000</td>\n",
       "      <td>1348.000000</td>\n",
       "      <td>1311.000000</td>\n",
       "      <td>1345.300049</td>\n",
       "      <td>1259.684326</td>\n",
       "      <td>4335359</td>\n",
       "    </tr>\n",
       "    <tr>\n",
       "      <th>2020-01-03 00:00:00+05:30</th>\n",
       "      <td>1344.949951</td>\n",
       "      <td>1344.949951</td>\n",
       "      <td>1330.150024</td>\n",
       "      <td>1335.050049</td>\n",
       "      <td>1250.086670</td>\n",
       "      <td>2059871</td>\n",
       "    </tr>\n",
       "    <tr>\n",
       "      <th>2020-01-06 00:00:00+05:30</th>\n",
       "      <td>1331.000000</td>\n",
       "      <td>1332.000000</td>\n",
       "      <td>1314.099976</td>\n",
       "      <td>1316.750000</td>\n",
       "      <td>1232.951172</td>\n",
       "      <td>2646905</td>\n",
       "    </tr>\n",
       "    <tr>\n",
       "      <th>2020-01-07 00:00:00+05:30</th>\n",
       "      <td>1328.000000</td>\n",
       "      <td>1339.500000</td>\n",
       "      <td>1313.750000</td>\n",
       "      <td>1320.500000</td>\n",
       "      <td>1236.462524</td>\n",
       "      <td>2077893</td>\n",
       "    </tr>\n",
       "  </tbody>\n",
       "</table>\n",
       "</div>"
      ],
      "text/plain": [
       "                                  Open         High          Low        Close  \\\n",
       "Date                                                                            \n",
       "2020-01-01 00:00:00+05:30  1308.400024  1318.900024  1303.000000  1309.949951   \n",
       "2020-01-02 00:00:00+05:30  1312.000000  1348.000000  1311.000000  1345.300049   \n",
       "2020-01-03 00:00:00+05:30  1344.949951  1344.949951  1330.150024  1335.050049   \n",
       "2020-01-06 00:00:00+05:30  1331.000000  1332.000000  1314.099976  1316.750000   \n",
       "2020-01-07 00:00:00+05:30  1328.000000  1339.500000  1313.750000  1320.500000   \n",
       "\n",
       "                             Adj Close   Volume  \n",
       "Date                                             \n",
       "2020-01-01 00:00:00+05:30  1226.583984  3123998  \n",
       "2020-01-02 00:00:00+05:30  1259.684326  4335359  \n",
       "2020-01-03 00:00:00+05:30  1250.086670  2059871  \n",
       "2020-01-06 00:00:00+05:30  1232.951172  2646905  \n",
       "2020-01-07 00:00:00+05:30  1236.462524  2077893  "
      ]
     },
     "execution_count": 4,
     "metadata": {},
     "output_type": "execute_result"
    }
   ],
   "source": [
    "df.head()"
   ]
  },
  {
   "cell_type": "code",
   "execution_count": 5,
   "metadata": {
    "nteract": {
     "transient": {
      "deleting": false
     }
    }
   },
   "outputs": [
    {
     "data": {
      "text/html": [
       "<div>\n",
       "<style scoped>\n",
       "    .dataframe tbody tr th:only-of-type {\n",
       "        vertical-align: middle;\n",
       "    }\n",
       "\n",
       "    .dataframe tbody tr th {\n",
       "        vertical-align: top;\n",
       "    }\n",
       "\n",
       "    .dataframe thead th {\n",
       "        text-align: right;\n",
       "    }\n",
       "</style>\n",
       "<table border=\"1\" class=\"dataframe\">\n",
       "  <thead>\n",
       "    <tr style=\"text-align: right;\">\n",
       "      <th></th>\n",
       "      <th>Open</th>\n",
       "      <th>High</th>\n",
       "      <th>Low</th>\n",
       "      <th>Close</th>\n",
       "      <th>Adj Close</th>\n",
       "      <th>Volume</th>\n",
       "    </tr>\n",
       "    <tr>\n",
       "      <th>Date</th>\n",
       "      <th></th>\n",
       "      <th></th>\n",
       "      <th></th>\n",
       "      <th></th>\n",
       "      <th></th>\n",
       "      <th></th>\n",
       "    </tr>\n",
       "  </thead>\n",
       "  <tbody>\n",
       "    <tr>\n",
       "      <th>2023-03-24 00:00:00+05:30</th>\n",
       "      <td>2206.000000</td>\n",
       "      <td>2219.350098</td>\n",
       "      <td>2153.050049</td>\n",
       "      <td>2166.149902</td>\n",
       "      <td>2166.149902</td>\n",
       "      <td>1449544</td>\n",
       "    </tr>\n",
       "    <tr>\n",
       "      <th>2023-03-27 00:00:00+05:30</th>\n",
       "      <td>2175.050049</td>\n",
       "      <td>2190.000000</td>\n",
       "      <td>2150.000000</td>\n",
       "      <td>2154.000000</td>\n",
       "      <td>2154.000000</td>\n",
       "      <td>1540581</td>\n",
       "    </tr>\n",
       "    <tr>\n",
       "      <th>2023-03-28 00:00:00+05:30</th>\n",
       "      <td>2167.750000</td>\n",
       "      <td>2169.800049</td>\n",
       "      <td>2122.449951</td>\n",
       "      <td>2133.600098</td>\n",
       "      <td>2133.600098</td>\n",
       "      <td>1627243</td>\n",
       "    </tr>\n",
       "    <tr>\n",
       "      <th>2023-03-29 00:00:00+05:30</th>\n",
       "      <td>2137.649902</td>\n",
       "      <td>2159.300049</td>\n",
       "      <td>2121.000000</td>\n",
       "      <td>2147.449951</td>\n",
       "      <td>2147.449951</td>\n",
       "      <td>2372385</td>\n",
       "    </tr>\n",
       "    <tr>\n",
       "      <th>2023-03-31 00:00:00+05:30</th>\n",
       "      <td>2156.500000</td>\n",
       "      <td>2176.949951</td>\n",
       "      <td>2150.550049</td>\n",
       "      <td>2164.199951</td>\n",
       "      <td>2164.199951</td>\n",
       "      <td>1489542</td>\n",
       "    </tr>\n",
       "  </tbody>\n",
       "</table>\n",
       "</div>"
      ],
      "text/plain": [
       "                                  Open         High          Low        Close  \\\n",
       "Date                                                                            \n",
       "2023-03-24 00:00:00+05:30  2206.000000  2219.350098  2153.050049  2166.149902   \n",
       "2023-03-27 00:00:00+05:30  2175.050049  2190.000000  2150.000000  2154.000000   \n",
       "2023-03-28 00:00:00+05:30  2167.750000  2169.800049  2122.449951  2133.600098   \n",
       "2023-03-29 00:00:00+05:30  2137.649902  2159.300049  2121.000000  2147.449951   \n",
       "2023-03-31 00:00:00+05:30  2156.500000  2176.949951  2150.550049  2164.199951   \n",
       "\n",
       "                             Adj Close   Volume  \n",
       "Date                                             \n",
       "2023-03-24 00:00:00+05:30  2166.149902  1449544  \n",
       "2023-03-27 00:00:00+05:30  2154.000000  1540581  \n",
       "2023-03-28 00:00:00+05:30  2133.600098  1627243  \n",
       "2023-03-29 00:00:00+05:30  2147.449951  2372385  \n",
       "2023-03-31 00:00:00+05:30  2164.199951  1489542  "
      ]
     },
     "execution_count": 5,
     "metadata": {},
     "output_type": "execute_result"
    }
   ],
   "source": [
    "df.tail()"
   ]
  },
  {
   "cell_type": "code",
   "execution_count": 6,
   "metadata": {
    "nteract": {
     "transient": {
      "deleting": false
     }
    }
   },
   "outputs": [],
   "source": [
    "x = np.array(df['Adj Close']).squeeze()"
   ]
  },
  {
   "cell_type": "code",
   "execution_count": 7,
   "metadata": {
    "nteract": {
     "transient": {
      "deleting": false
     }
    }
   },
   "outputs": [],
   "source": [
    "import collections\n",
    "\n",
    "outcomes = [item for item, count in collections.Counter(x).items() if count > 1]"
   ]
  },
  {
   "cell_type": "code",
   "execution_count": 8,
   "metadata": {
    "nteract": {
     "transient": {
      "deleting": false
     }
    }
   },
   "outputs": [
    {
     "data": {
      "text/plain": [
       "array([ 881.25, 1450.45, 1744.9 , 1672.93, 1912.95, 2024.45, 2062.75,\n",
       "       2177.55])"
      ]
     },
     "execution_count": 8,
     "metadata": {},
     "output_type": "execute_result"
    }
   ],
   "source": [
    "outcomes = np.round(outcomes, 2)\n",
    "outcomes"
   ]
  },
  {
   "cell_type": "code",
   "execution_count": 9,
   "metadata": {
    "nteract": {
     "transient": {
      "deleting": false
     }
    }
   },
   "outputs": [],
   "source": [
    "outcome_probabilities = [0.50, 0.50, 0.50, 0.50]"
   ]
  },
  {
   "cell_type": "code",
   "execution_count": 10,
   "metadata": {
    "nteract": {
     "transient": {
      "deleting": false
     }
    }
   },
   "outputs": [
    {
     "name": "stdout",
     "output_type": "stream",
     "text": [
      "[ -879.25 -1448.45 -1742.9  -1670.93 -1910.95 -2022.45 -2060.75 -2175.55]\n"
     ]
    }
   ],
   "source": [
    "H = outcomes\n",
    "\n",
    "for p in outcome_probabilities:\n",
    "    H += (p*np.log2(p))\n",
    "\n",
    "H = -H\n",
    "\n",
    "print(H)"
   ]
  },
  {
   "cell_type": "code",
   "execution_count": 11,
   "metadata": {
    "nteract": {
     "transient": {
      "deleting": false
     }
    }
   },
   "outputs": [],
   "source": [
    "data = {'Repeat Adj Close':outcomes,\n",
    "        'Entropy':H}"
   ]
  },
  {
   "cell_type": "code",
   "execution_count": 12,
   "metadata": {
    "nteract": {
     "transient": {
      "deleting": false
     }
    }
   },
   "outputs": [
    {
     "data": {
      "text/html": [
       "<div>\n",
       "<style scoped>\n",
       "    .dataframe tbody tr th:only-of-type {\n",
       "        vertical-align: middle;\n",
       "    }\n",
       "\n",
       "    .dataframe tbody tr th {\n",
       "        vertical-align: top;\n",
       "    }\n",
       "\n",
       "    .dataframe thead th {\n",
       "        text-align: right;\n",
       "    }\n",
       "</style>\n",
       "<table border=\"1\" class=\"dataframe\">\n",
       "  <thead>\n",
       "    <tr style=\"text-align: right;\">\n",
       "      <th></th>\n",
       "      <th>Repeat Adj Close</th>\n",
       "      <th>Entropy</th>\n",
       "    </tr>\n",
       "  </thead>\n",
       "  <tbody>\n",
       "    <tr>\n",
       "      <th>0</th>\n",
       "      <td>879.25</td>\n",
       "      <td>-879.25</td>\n",
       "    </tr>\n",
       "    <tr>\n",
       "      <th>1</th>\n",
       "      <td>1448.45</td>\n",
       "      <td>-1448.45</td>\n",
       "    </tr>\n",
       "    <tr>\n",
       "      <th>2</th>\n",
       "      <td>1742.90</td>\n",
       "      <td>-1742.90</td>\n",
       "    </tr>\n",
       "    <tr>\n",
       "      <th>3</th>\n",
       "      <td>1670.93</td>\n",
       "      <td>-1670.93</td>\n",
       "    </tr>\n",
       "    <tr>\n",
       "      <th>4</th>\n",
       "      <td>1910.95</td>\n",
       "      <td>-1910.95</td>\n",
       "    </tr>\n",
       "    <tr>\n",
       "      <th>5</th>\n",
       "      <td>2022.45</td>\n",
       "      <td>-2022.45</td>\n",
       "    </tr>\n",
       "    <tr>\n",
       "      <th>6</th>\n",
       "      <td>2060.75</td>\n",
       "      <td>-2060.75</td>\n",
       "    </tr>\n",
       "    <tr>\n",
       "      <th>7</th>\n",
       "      <td>2175.55</td>\n",
       "      <td>-2175.55</td>\n",
       "    </tr>\n",
       "  </tbody>\n",
       "</table>\n",
       "</div>"
      ],
      "text/plain": [
       "   Repeat Adj Close  Entropy\n",
       "0            879.25  -879.25\n",
       "1           1448.45 -1448.45\n",
       "2           1742.90 -1742.90\n",
       "3           1670.93 -1670.93\n",
       "4           1910.95 -1910.95\n",
       "5           2022.45 -2022.45\n",
       "6           2060.75 -2060.75\n",
       "7           2175.55 -2175.55"
      ]
     },
     "execution_count": 12,
     "metadata": {},
     "output_type": "execute_result"
    }
   ],
   "source": [
    "IT_df = pd.DataFrame(data)\n",
    "IT_df"
   ]
  },
  {
   "cell_type": "code",
   "execution_count": 13,
   "metadata": {
    "nteract": {
     "transient": {
      "deleting": false
     }
    }
   },
   "outputs": [
    {
     "data": {
      "image/png": "[encoded data removed]",
      "text/plain": [
       "<Figure size 432x288 with 1 Axes>"
      ]
     },
     "metadata": {
      "needs_background": "light"
     },
     "output_type": "display_data"
    }
   ],
   "source": [
    "plt.bar(IT_df['Repeat Adj Close'], IT_df['Entropy'], color ='maroon',\n",
    "        width = 0.4)\n",
    " \n",
    "plt.xlabel(\"Adj Close\")\n",
    "plt.ylabel(\"Entropy\")\n",
    "plt.title(\"Information Theory of Adj Close\")\n",
    "plt.show()"
   ]
  },
  {
   "cell_type": "code",
   "execution_count": 14,
   "metadata": {
    "nteract": {
     "transient": {
      "deleting": false
     }
    },
    "tags": []
   },
   "outputs": [
    {
     "data": {
      "image/png": "[encoded data removed]",
      "text/plain": [
       "<Figure size 432x288 with 1 Axes>"
      ]
     },
     "metadata": {
      "needs_background": "light"
     },
     "output_type": "display_data"
    }
   ],
   "source": [
    "ax = IT_df.plot.bar(x='Repeat Adj Close', y='Entropy', rot=0, title = \"Information Theory of Adj Close\")"
   ]
  }
 ],
 "metadata": {
  "kernel_info": {
   "name": "python3"
  },
  "kernelspec": {
   "display_name": "Python 3 (ipykernel)",
   "language": "python",
   "name": "python3"
  },
  "language_info": {
   "codemirror_mode": {
    "name": "ipython",
    "version": 3
   },
   "file_extension": ".py",
   "mimetype": "text/x-python",
   "name": "python",
   "nbconvert_exporter": "python",
   "pygments_lexer": "ipython3",
   "version": "3.9.7"
  },
  "nteract": {
   "version": "0.28.0"
  }
 },
 "nbformat": 4,
 "nbformat_minor": 4
}
